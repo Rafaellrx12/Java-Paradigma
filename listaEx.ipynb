{
  "nbformat": 4,
  "nbformat_minor": 0,
  "metadata": {
    "colab": {
      "provenance": [],
      "authorship_tag": "ABX9TyPsOq5l/Q17CvAPTPxwIlZo",
      "include_colab_link": true
    },
    "kernelspec": {
      "name": "python3",
      "display_name": "Python 3"
    },
    "language_info": {
      "name": "python"
    }
  },
  "cells": [
    {
      "cell_type": "markdown",
      "metadata": {
        "id": "view-in-github",
        "colab_type": "text"
      },
      "source": [
        "<a href=\"https://colab.research.google.com/github/Rafaellrx12/Java-Paradigma/blob/main/listaEx.ipynb\" target=\"_parent\"><img src=\"https://colab.research.google.com/assets/colab-badge.svg\" alt=\"Open In Colab\"/></a>"
      ]
    },
    {
      "cell_type": "markdown",
      "source": [
        "Programa 01-Objetivo:Fazer a Leitura de duas notas e calcular sua média\n"
      ],
      "metadata": {
        "id": "8DZNIeUANKik"
      }
    },
    {
      "cell_type": "code",
      "execution_count": null,
      "metadata": {
        "colab": {
          "base_uri": "https://localhost:8080/"
        },
        "id": "gQumiEeTND0w",
        "outputId": "53cd35a1-db36-4bc6-b227-648a03ee2c3c"
      },
      "outputs": [
        {
          "output_type": "stream",
          "name": "stdout",
          "text": [
            "Digite a nota 1: 3\n",
            "Digite a nota 2: 5\n",
            "4.0\n"
          ]
        }
      ],
      "source": [
        "nota1 = float(input(\"Digite a nota 1: \"))\n",
        "nota2 = float(input(\"Digite a nota 2: \"))\n",
        "\n",
        "media = (nota1+nota2)/2\n",
        "\n",
        "print(media)"
      ]
    },
    {
      "cell_type": "markdown",
      "source": [
        "Programa 02- Escrevendo o mesmo problema de forma Modularizada com Funções e Procedimentos\n"
      ],
      "metadata": {
        "id": "X6X_vQyUPpcx"
      }
    },
    {
      "cell_type": "code",
      "source": [
        "def media():\n",
        "  nota1 = float(input(\"Digite sua nota: \"))\n",
        "  nota2 = float(input(\"Digite sua nota: \"))\n",
        "  return (nota1+nota2/2)\n",
        "\n",
        "print(media())"
      ],
      "metadata": {
        "colab": {
          "base_uri": "https://localhost:8080/"
        },
        "id": "VCF0rVSdP8JR",
        "outputId": "a80a9a50-53ef-4b83-f923-1109bb7fb50a"
      },
      "execution_count": null,
      "outputs": [
        {
          "output_type": "stream",
          "name": "stdout",
          "text": [
            "Digite sua nota: 5\n",
            "Digite sua nota: 7\n",
            "8.5\n"
          ]
        }
      ]
    },
    {
      "cell_type": "markdown",
      "source": [
        "Programa 03- Faça um programa que solicite o preço de uma mercadoria e o percentual de desconto.Exiba o valor do desconto e o preço a pagar\n"
      ],
      "metadata": {
        "id": "r6RzcLm8Q2n7"
      }
    },
    {
      "cell_type": "code",
      "source": [
        "def desconto(preco,desconto):\n",
        "\n",
        "  desconto = preco * (percentual / 100)\n",
        "\n",
        "  valor_final = preco - desconto\n",
        "\n",
        "  return print(f\"o Valor final é: {valor_final}  e o desconto {desconto}\")\n",
        "\n",
        "preco = float(input(\"Digite o preço da mercadoria:\" ))\n",
        "percentual = int(input(\"Digite o percentual de desconto: \"))\n",
        "\n",
        "desconto(preco,desconto)"
      ],
      "metadata": {
        "colab": {
          "base_uri": "https://localhost:8080/"
        },
        "id": "7FRiPvL7R-4-",
        "outputId": "e887fa0d-f96f-414f-804f-108864e1fa31"
      },
      "execution_count": null,
      "outputs": [
        {
          "output_type": "stream",
          "name": "stdout",
          "text": [
            "Digite o preço da mercadoria:500\n",
            "Digite o percentual de desconto: 50\n",
            "o Valor final é: 250.0  e o desconto 250.0\n"
          ]
        }
      ]
    },
    {
      "cell_type": "markdown",
      "source": [
        "Programa 04 - Escreva um programa para calcular a redução do tempo de vida de um fumante.Pergunte a quantidade de cigarros fumados por dia e quantos anos ele ja fumou .Considere que um fumante perde 10 minutos de vida a cada cigarro, e calcule quantod dias de vida fumante perderá.Exiba o total em dias.\n"
      ],
      "metadata": {
        "id": "qwiGSyVLU7mu"
      }
    },
    {
      "cell_type": "code",
      "source": [
        "def diasPerdidos(qtd_cigarros,qtd_anos):\n",
        "\n",
        "  return print(round((( qtd_cigarros * (qtd_anos * 365) * 10)/60)/24))\n",
        "\n",
        "qtd = int(input(\"Quantos cigarros vc fuma por dia: \"));\n",
        "qtd_anos = int(input(\"Quantos anos vc fuma: \"))\n",
        "\n",
        "diasPerdidos(qtd,qtd_anos);\n",
        "\n"
      ],
      "metadata": {
        "colab": {
          "base_uri": "https://localhost:8080/"
        },
        "id": "s3FzT2bvVaaL",
        "outputId": "a166bbbe-edcc-4b58-84b2-ad12c39e7459"
      },
      "execution_count": null,
      "outputs": [
        {
          "output_type": "stream",
          "name": "stdout",
          "text": [
            "Quantos cigarros vc fuma por dia: 5\n",
            "Quantos anos vc fuma: 5\n",
            "63\n"
          ]
        }
      ]
    },
    {
      "cell_type": "markdown",
      "source": [
        "Programa 05 - Escreva um programa para controlar uma pequena registradora.Você deve solicitar ao usuário que digite o código do produto e a quantidade comprada.Utilize a tabela de códigos a seguir para obter o preço a seguir para obter o preço de cada produto.\n",
        "\n",
        "\n",
        "Código preço 1 0,50 2 1,00 3 4,00 5 7,00 9 8,00.Seu programa deve exibir o total das compras depois que o usuário digitar 0.Qualquer outro código deve gerar a mensagem de erro \"Código Inválido\".\n",
        "\n",
        "\n"
      ],
      "metadata": {
        "id": "bmpzquiNY-fu"
      }
    },
    {
      "cell_type": "code",
      "source": [
        "soma = 0.0;\n",
        "while True:\n",
        "  valor = 0;\n",
        "\n",
        "  codigo_prod = int(input(\"Digite o código do produto: \"))\n",
        "\n",
        "  if(codigo_prod == 0):\n",
        "    break\n",
        "\n",
        "  valores = [0.50,1.00,4.0,0,7.00,0,0,0,8.00];\n",
        "\n",
        "\n",
        "\n",
        "  qtd_comprado = int(input(\"Digite a qtd comprado: \"))\n",
        "\n",
        "\n",
        "  soma += qtd_comprado*valores[codigo_prod+1]\n",
        "  print(f\"O valor até agr: {soma}\")\n",
        "\n",
        "\n",
        "print(f\"A soma final é : {soma}\")\n",
        "\n",
        "\n"
      ],
      "metadata": {
        "id": "Mqrws1a4ZH58"
      },
      "execution_count": null,
      "outputs": []
    },
    {
      "cell_type": "markdown",
      "source": [
        "Programa 06 - *Lê* um vetor de 8 posições e, em seguida,\n",
        "lê dois valores x e y quaisquer correspondentes a\n",
        "duas posições no vetor.O programa então imprime a\n",
        "soma dos valores encontrados nas respectivas posições x e y\n"
      ],
      "metadata": {
        "id": "B2HtABUSdnYL"
      }
    },
    {
      "cell_type": "code",
      "source": [
        "vetor = [];\n",
        "\n",
        "for i in range(8):\n",
        "  valor = int(input(\"Digite um valor: \"))\n",
        "  vetor.append(valor);\n",
        "\n",
        "x = int(input(\"Digite o valor de x: \"))\n",
        "y = int(input(\"Digite o valor de y: \"))\n",
        "\n",
        "soma = vetor[x] + vetor[y];\n",
        "\n",
        "print(f\"A soma dos valores do vetor nas posições x e y é: {soma}\")\n",
        "\n"
      ],
      "metadata": {
        "id": "Ryj7BoDZeNmG"
      },
      "execution_count": null,
      "outputs": []
    },
    {
      "cell_type": "markdown",
      "source": [
        "Programa 07 - Faça um programa em Python que receba do usuario\n",
        "um vetor com 10 posições.Em seguida devera ser\n",
        "impresso o maior e o menor elemento do vetor"
      ],
      "metadata": {
        "id": "p9jbYDRPjmqC"
      }
    },
    {
      "cell_type": "code",
      "source": [
        "vetor = [];\n",
        "maior = 0;\n",
        "menor = 1000000000;\n",
        "soma = 0;\n",
        "contador = 0;\n",
        "for i in range(10):\n",
        "  valor = int(input(\"Digite um valor: \"))\n",
        "  vetor.append(valor);\n",
        "  if maior < valor: maior = valor\n",
        "  if menor > valor: menor = valor\n",
        "  if(valor > 5): contador+=1\n",
        "  soma += valor;\n",
        "\n",
        "\n",
        "print(f\"O maior valor é {maior} e o menor valor é {menor}\")\n",
        "print(f\"A soma dos valores do array é: {soma} e a média é :{soma/len(vetor)}\")\n",
        "print(f\"A quantidade de elementos que possuem valor maior que 5 é : {contador}\")"
      ],
      "metadata": {
        "id": "7-PMP439kN4z"
      },
      "execution_count": null,
      "outputs": []
    },
    {
      "cell_type": "markdown",
      "source": [
        "Programa 08 - Crie um dicionário que é uma agenda e coloque nele os seguintes dados: chave (cpf),nome, idade, telefone. O programa deve ler um número indeterminado de dados, criar a agenda e imprimir todos os itens do dicionário no formato chave: nome, idade, fone.\n"
      ],
      "metadata": {
        "id": "y-ZcltwiN9Td"
      }
    },
    {
      "cell_type": "code",
      "source": [
        "def adicionar_contato(agenda):\n",
        "    while True:\n",
        "        cpf = input(\"Digite o CPF: \")\n",
        "        nome = input(\"Digite o nome: \")\n",
        "        idade = input(\"Digite a idade: \")\n",
        "        telefone = input(\"Digite o telefone: \")\n",
        "\n",
        "        agenda[cpf] = {\n",
        "            \"nome\": nome,\n",
        "            \"idade\": idade,\n",
        "            \"telefone\": telefone,\n",
        "        }\n",
        "        continuar = input(\"Deseja adicionar outro contato? (s/n): \")\n",
        "        if continuar.lower() != \"s\":\n",
        "            break\n",
        "\n",
        "def main():\n",
        "    agenda = {}\n",
        "\n",
        "    adicionar_contato(agenda)\n",
        "\n",
        "    for cpf, contato in agenda.items():\n",
        "        print(f\"{cpf}: {contato['nome']}, {contato['idade']} anos, {contato['telefone']}\")\n",
        "\n",
        "if __name__ == \"__main__\":\n",
        "    main()\n"
      ],
      "metadata": {
        "colab": {
          "base_uri": "https://localhost:8080/"
        },
        "id": "39liNWVzOAdf",
        "outputId": "c0889fe1-8dd0-41fa-8342-2830e869b429"
      },
      "execution_count": null,
      "outputs": [
        {
          "output_type": "stream",
          "name": "stdout",
          "text": [
            "Digite o CPF: 14348689407\n",
            "Digite o nome: rafa\n",
            "Digite a idade: 20\n",
            "Digite o telefone: 84444\n",
            "Deseja adicionar outro contato? (s/n): n\n",
            "14348689407: rafa, 20 anos, 84444\n"
          ]
        }
      ]
    },
    {
      "cell_type": "markdown",
      "source": [
        "Programa 09 - Construa um dicionário com nome, salariobruto, salario liquido, para número indeterminado de pessoas, nele será calculado o desconto de 8% do INSS e de 10% para IRPF. Preciso que o programa seja escrito na Linguagem Python de forma Otimizada..\n"
      ],
      "metadata": {
        "id": "Cc9K4oqXOVUv"
      }
    },
    {
      "cell_type": "code",
      "source": [
        "def calcular_salario(nome, salario_bruto):\n",
        "\n",
        "    desconto_inss = salario_bruto * 0.08\n",
        "\n",
        "    desconto_irpf = salario_bruto * 0.10 if salario_bruto > 1903.98 else 0\n",
        "\n",
        "    salario_liquido = salario_bruto - desconto_inss - desconto_irpf\n",
        "\n",
        "    return {\n",
        "        \"salario_bruto\": salario_bruto,\n",
        "        \"desconto_inss\": desconto_inss,\n",
        "        \"desconto_irpf\": desconto_irpf,\n",
        "        \"salario_liquido\": salario_liquido,\n",
        "    }\n",
        "\n",
        "def main():\n",
        "\n",
        "    folha_de_pagamento = {}\n",
        "\n",
        "    while True:\n",
        "        nome = input(\"Digite o nome: \")\n",
        "        salario_bruto = float(input(\"Digite o salário bruto: \"))\n",
        "\n",
        "        folha_de_pagamento[nome] = calcular_salario(nome, salario_bruto)\n",
        "\n",
        "        continuar = input(\"Deseja continuar? (s/n): \")\n",
        "        if continuar != \"s\":\n",
        "            break\n",
        "\n",
        "    for nome, dados in folha_de_pagamento.items():\n",
        "        print(f\"Nome: {nome}, Salário Bruto: {dados['salario_bruto']:.2f}, \"\n",
        "              f\"Desconto INSS: {dados['desconto_inss']:.2f}, \"\n",
        "              f\"Desconto IRPF: {dados['desconto_irpf']:.2f}, \"\n",
        "              f\"Salário Líquido: {dados['salario_liquido']:.2f}\")\n",
        "\n",
        "\n",
        "if __name__ == \"__main__\":\n",
        "    main()\n"
      ],
      "metadata": {
        "id": "QllE4bimOuGP"
      },
      "execution_count": null,
      "outputs": []
    },
    {
      "cell_type": "markdown",
      "source": [
        "Programa 10 - Faça um programa em Python para gerar automaticamente numeros entre 0 e 99 de uma cartela de bingo. Sabendo que cada cartela devera conter 5 linhas de 5 numeros, gere estes dados de modo a nao ter numeros repetidos dentro das cartelas. O programa deve exibir na tela a cartela gerada."
      ],
      "metadata": {
        "id": "Lz1E6TxMPPr4"
      }
    },
    {
      "cell_type": "code",
      "source": [
        "import random\n",
        "\n",
        "def gerar_cartela():\n",
        "    numeros = set()\n",
        "    cartela = []\n",
        "    for i in range(5):\n",
        "        numero = random.randint(0, 99)\n",
        "        while numero in numeros:\n",
        "            numero = random.randint(0, 99)\n",
        "        numeros.add(numero)\n",
        "        cartela.append(numero)\n",
        "    return cartela\n",
        "\n",
        "def main():\n",
        "    cartela = gerar_cartela()\n",
        "    print(\"Cartela de bingo:\")\n",
        "    for linha in cartela:\n",
        "        print(linha)\n",
        "\n",
        "\n",
        "if __name__ == \"__main__\":\n",
        "    main()\n"
      ],
      "metadata": {
        "id": "dizY3HVFPSoI"
      },
      "execution_count": null,
      "outputs": []
    },
    {
      "cell_type": "markdown",
      "source": [
        "Programa 11 - Faça um Programa em Python que Leia uma matriz 10 x 3 com as notas de 10 alunos em 3 provas. Em seguida, escreva o numero de alunos cuja pior nota foi na prova 1, o número de alunos cuja pior nota foi na prova 2, e o numero de alunos cuja pior nota foi na prova 3. Em caso de empate das piores notas de um aluno, o critério de desempate  e arbitrário, mas o aluno deve ser contabilizado apenas uma vez."
      ],
      "metadata": {
        "id": "iegQMIhbPqCe"
      }
    },
    {
      "cell_type": "code",
      "source": [
        "def main():\n",
        "    matriz = []\n",
        "    for i in range(10):\n",
        "        matriz.append([int(input(\"Digite a nota do aluno %d na prova 1: \" % i)),\n",
        "                      int(input(\"Digite a nota do aluno %d na prova 2: \" % i)),\n",
        "                      int(input(\"Digite a nota do aluno %d na prova 3: \" % i))])\n",
        "\n",
        "    alunos_prova_1 = 0\n",
        "    alunos_prova_2 = 0\n",
        "    alunos_prova_3 = 0\n",
        "\n",
        "    for aluno in matriz:\n",
        "        pior_nota = aluno[0]\n",
        "        if pior_nota > aluno[1]:\n",
        "            pior_nota = aluno[1]\n",
        "        if pior_nota > aluno[2]:\n",
        "            pior_nota = aluno[2]\n",
        "\n",
        "        if pior_nota == aluno[0]:\n",
        "            alunos_prova_1 += 1\n",
        "        elif pior_nota == aluno[1]:\n",
        "            alunos_prova_2 += 1\n",
        "        else:\n",
        "            alunos_prova_3 += 1\n",
        "\n",
        "    print(\"O número de alunos cuja pior nota foi na prova 1 é:\", alunos_prova_1)\n",
        "    print(\"O número de alunos cuja pior nota foi na prova 2 é:\", alunos_prova_2)\n",
        "    print(\"O número de alunos cuja pior nota foi na prova 3 é:\", alunos_prova_3)\n",
        "\n",
        "\n",
        "if __name__ == \"__main__\":\n",
        "    main()\n"
      ],
      "metadata": {
        "id": "5gUTmPY3Qqvy"
      },
      "execution_count": null,
      "outputs": []
    },
    {
      "cell_type": "markdown",
      "source": [
        "Programa 12 - Escreva um programa que compare duas listas. Utilizando operações com conjuntos, imprima:\n",
        "• os valores comuns às duas listas\n",
        "• os valores que só existem na primeira\n",
        "• os valores que existem apenas na segunda\n",
        "• uma lista com os elementos não repetidos das duas listas.\n",
        "• a primeira lista sem os elementos repetidos na segunda\n"
      ],
      "metadata": {
        "id": "kiIOda7tVgDG"
      }
    },
    {
      "cell_type": "code",
      "source": [
        "L1 = [1, 2, 6, 8]\n",
        "L2 = [3, 6, 8, 9]\n",
        "\n",
        "print(f\"Lista 1: {L1}\")\n",
        "print(f\"Lista 2: {L2}\")\n",
        "\n",
        "conjunto_1 = set(L1)\n",
        "conjunto_2 = set(L2)\n",
        "\n",
        "print(\"Valores comuns às duas listas:\", conjunto_1 & conjunto_2)\n",
        "print(\"Valores que só existem na primeira:\", conjunto_1 - conjunto_2)\n",
        "print(\"Valores que só existem na segunda:\", conjunto_2 - conjunto_1)\n",
        "\n",
        "print(\"Elementos não repetidos nas duas listas:\", conjunto_1 ^ conjunto_2)\n",
        "\n",
        "print(\"Primeira lista, sem os elementos repetidos na segunda:\",\n",
        "      conjunto_1 - conjunto_2)"
      ],
      "metadata": {
        "id": "e3ivp6xxVhL6"
      },
      "execution_count": null,
      "outputs": []
    },
    {
      "cell_type": "markdown",
      "source": [
        "Programa 13 - Altere o programa anterior de forma a perguntar também o valor depositado mensalmente. Esse valor será depositado no início de cada mês, e você deve considerá-lo para o cálculo de juros do mês seguinte."
      ],
      "metadata": {
        "id": "jZyKsSfrV2fM"
      }
    },
    {
      "cell_type": "code",
      "source": [
        "depósito = float(input(\"Depósito inicial: \"))\n",
        "taxa = float(input(\"Taxa de juros (Ex.: 3 para 3%): \"))\n",
        "investimento = float(input(\"Depósito mensal: \"))\n",
        "mês = 1\n",
        "saldo = depósito\n",
        "while mês <= 24:\n",
        "    saldo = saldo + (saldo * (taxa / 100)) + investimento\n",
        "    print(f\"Saldo do mês {mês} é de R${saldo:5.2f}.\")\n",
        "    mês = mês + 1\n",
        "print(f\"O ganho obtido com os juros foi de R${saldo-depósito:8.2f}.\")"
      ],
      "metadata": {
        "id": "Kwia_w2TV3Ed"
      },
      "execution_count": null,
      "outputs": []
    }
  ]
}